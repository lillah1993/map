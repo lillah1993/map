{
 "cells": [
  {
   "cell_type": "code",
   "execution_count": 1,
   "metadata": {},
   "outputs": [],
   "source": [
    "import os\n",
    "import shutil\n",
    "import requests"
   ]
  },
  {
   "cell_type": "code",
   "execution_count": 2,
   "metadata": {},
   "outputs": [],
   "source": [
    "APIKEY = os.environ['AIRTABLE_APIKEY']\n",
    "BASE = 'appfJRhs6ZsWF5OtU'\n",
    "AIRTABLE = 'https://api.airtable.com/v0'\n",
    "FILENAME = 'asset.mp4'\n",
    "OUTDIR = 'm3-assets'"
   ]
  },
  {
   "cell_type": "code",
   "execution_count": 3,
   "metadata": {},
   "outputs": [],
   "source": [
    "def fetch(table, rid=None):\n",
    "    if rid is None:\n",
    "        ret = requests.get(f'{AIRTABLE}/{BASE}/{table}?view=website', headers=dict(Authorization=f'Bearer {APIKEY}')).json()\n",
    "        return [dict(**r['fields'], __id=r['id']) for r in ret['records']]\n",
    "    else:\n",
    "        ret = requests.get(f'{AIRTABLE}/{BASE}/{table}/{rid}', headers=dict(Authorization=f'Bearer {APIKEY}')).json()\n",
    "        return ret['fields']"
   ]
  },
  {
   "cell_type": "code",
   "execution_count": 4,
   "metadata": {},
   "outputs": [],
   "source": [
    "os.makedirs(OUTDIR, exist_ok=True)\n",
    "asset_filename = os.path.join(OUTDIR, FILENAME)\n",
    "if not os.path.exists(asset_filename):\n",
    "    assets = fetch('Assets')\n",
    "    asset = assets[0]['Attachments'][0]['url']\n",
    "    with open(asset_filename, 'wb') as dst:\n",
    "        src = requests.get(asset, stream=True).raw\n",
    "        shutil.copyfileobj(src, dst)\n"
   ]
  },
  {
   "cell_type": "code",
   "execution_count": 5,
   "metadata": {},
   "outputs": [
    {
     "data": {
      "text/plain": [
       "2600.71"
      ]
     },
     "execution_count": 5,
     "metadata": {},
     "output_type": "execute_result"
    }
   ],
   "source": [
    "from moviepy.video.io.VideoFileClip import VideoFileClip\n",
    "a = VideoFileClip(asset_filename).audio\n",
    "a.duration"
   ]
  },
  {
   "cell_type": "code",
   "execution_count": 6,
   "metadata": {},
   "outputs": [
    {
     "name": "stderr",
     "output_type": "stream",
     "text": [
      "chunk:  10%|▉         | 63/640 [00:00<00:00, 629.92it/s, now=None]"
     ]
    },
    {
     "name": "stdout",
     "output_type": "stream",
     "text": [
      "MoviePy - Writing audio in m3-assets/0: Introduction.mp3\n"
     ]
    },
    {
     "name": "stderr",
     "output_type": "stream",
     "text": [
      "                                                                   \r"
     ]
    },
    {
     "name": "stdout",
     "output_type": "stream",
     "text": [
      "MoviePy - Done.\n",
      "29\n"
     ]
    },
    {
     "name": "stderr",
     "output_type": "stream",
     "text": [
      "chunk:  12%|█▏        | 103/883 [00:00<00:00, 1006.67it/s, now=None]"
     ]
    },
    {
     "name": "stdout",
     "output_type": "stream",
     "text": [
      "MoviePy - Writing audio in m3-assets/1: M.F - filling time.mp3\n"
     ]
    },
    {
     "name": "stderr",
     "output_type": "stream",
     "text": [
      "                                                                    \r"
     ]
    },
    {
     "name": "stdout",
     "output_type": "stream",
     "text": [
      "MoviePy - Done.\n",
      "40\n"
     ]
    },
    {
     "name": "stderr",
     "output_type": "stream",
     "text": [
      "chunk:   8%|▊         | 81/982 [00:00<00:01, 807.98it/s, now=None]"
     ]
    },
    {
     "name": "stdout",
     "output_type": "stream",
     "text": [
      "MoviePy - Writing audio in m3-assets/2: M.M - The real issue: Egypt control over the Nile & 11 countries.mp3\n"
     ]
    },
    {
     "name": "stderr",
     "output_type": "stream",
     "text": [
      "                                                                    \r"
     ]
    },
    {
     "name": "stdout",
     "output_type": "stream",
     "text": [
      "MoviePy - Done.\n",
      "44.5\n"
     ]
    },
    {
     "name": "stderr",
     "output_type": "stream",
     "text": [
      "chunk:   4%|▎         | 73/2062 [00:00<00:02, 729.25it/s, now=None]"
     ]
    },
    {
     "name": "stdout",
     "output_type": "stream",
     "text": [
      "MoviePy - Writing audio in m3-assets/3: M.S - the role of Sudan & negotiations, not war.mp3\n"
     ]
    },
    {
     "name": "stderr",
     "output_type": "stream",
     "text": [
      "                                                                      \r"
     ]
    },
    {
     "name": "stdout",
     "output_type": "stream",
     "text": [
      "MoviePy - Done.\n",
      "93.5\n"
     ]
    },
    {
     "name": "stderr",
     "output_type": "stream",
     "text": [
      "chunk:   3%|▎         | 81/2658 [00:00<00:03, 809.92it/s, now=None]"
     ]
    },
    {
     "name": "stdout",
     "output_type": "stream",
     "text": [
      "MoviePy - Writing audio in m3-assets/4: W.D - why is it coming to a head now & Drought and climate.mp3\n"
     ]
    },
    {
     "name": "stderr",
     "output_type": "stream",
     "text": [
      "                                                                      \r"
     ]
    },
    {
     "name": "stdout",
     "output_type": "stream",
     "text": [
      "MoviePy - Done.\n",
      "120.5\n"
     ]
    },
    {
     "name": "stderr",
     "output_type": "stream",
     "text": [
      "chunk:  14%|█▍        | 98/706 [00:00<00:00, 978.72it/s, now=None]"
     ]
    },
    {
     "name": "stdout",
     "output_type": "stream",
     "text": [
      "MoviePy - Writing audio in m3-assets/5: M.S - 22B cube.mp3\n"
     ]
    },
    {
     "name": "stderr",
     "output_type": "stream",
     "text": [
      "                                                                    \r"
     ]
    },
    {
     "name": "stdout",
     "output_type": "stream",
     "text": [
      "MoviePy - Done.\n",
      "32.0\n"
     ]
    },
    {
     "name": "stderr",
     "output_type": "stream",
     "text": [
      "chunk:   3%|▎         | 74/2400 [00:00<00:03, 738.66it/s, now=None]"
     ]
    },
    {
     "name": "stdout",
     "output_type": "stream",
     "text": [
      "MoviePy - Writing audio in m3-assets/6:M.M - Existential issue.mp3\n"
     ]
    },
    {
     "name": "stderr",
     "output_type": "stream",
     "text": [
      "                                                                      \r"
     ]
    },
    {
     "name": "stdout",
     "output_type": "stream",
     "text": [
      "MoviePy - Done.\n",
      "108.79999999999995\n"
     ]
    },
    {
     "name": "stderr",
     "output_type": "stream",
     "text": [
      "chunk:   7%|▋         | 76/1140 [00:00<00:01, 759.52it/s, now=None]"
     ]
    },
    {
     "name": "stdout",
     "output_type": "stream",
     "text": [
      "MoviePy - Writing audio in m3-assets/7: M.F - historical & colonial.mp3\n"
     ]
    },
    {
     "name": "stderr",
     "output_type": "stream",
     "text": [
      "                                                                      \r"
     ]
    },
    {
     "name": "stdout",
     "output_type": "stream",
     "text": [
      "MoviePy - Done.\n",
      "51.700000000000045\n"
     ]
    },
    {
     "name": "stderr",
     "output_type": "stream",
     "text": [
      "chunk:  18%|█▊        | 78/430 [00:00<00:00, 777.18it/s, now=None]"
     ]
    },
    {
     "name": "stdout",
     "output_type": "stream",
     "text": [
      "MoviePy - Writing audio in m3-assets/8: W.D - the GERD (dam) is a non consumptive project.mp3\n"
     ]
    },
    {
     "name": "stderr",
     "output_type": "stream",
     "text": [
      "                                                                   \r"
     ]
    },
    {
     "name": "stdout",
     "output_type": "stream",
     "text": [
      "MoviePy - Done.\n",
      "19.5\n"
     ]
    },
    {
     "name": "stderr",
     "output_type": "stream",
     "text": [
      "chunk:   7%|▋         | 77/1103 [00:00<00:01, 768.17it/s, now=None]"
     ]
    },
    {
     "name": "stdout",
     "output_type": "stream",
     "text": [
      "MoviePy - Writing audio in m3-assets/9: M.M - sustainable water use.mp3\n"
     ]
    },
    {
     "name": "stderr",
     "output_type": "stream",
     "text": [
      "                                                                     "
     ]
    },
    {
     "name": "stdout",
     "output_type": "stream",
     "text": [
      "MoviePy - Done.\n",
      "50\n"
     ]
    },
    {
     "name": "stderr",
     "output_type": "stream",
     "text": [
      "\r"
     ]
    }
   ],
   "source": [
    "from moviepy.audio.AudioClip import CompositeAudioClip\n",
    "import moviepy.audio.fx.all as afx\n",
    "import moviepy.editor as editor\n",
    "\n",
    "\n",
    "segments = fetch('Segment')\n",
    "for segment in segments:\n",
    "    out_filename = os.path.join(OUTDIR, f\"{segment['title']}.mp3\")\n",
    "    timestamps = [fetch('Audio Editing', rid) for rid in segment['audio_editing']]\n",
    "    timestamps = [t for t in timestamps if t['length']]\n",
    "    clips = []\n",
    "    for timestamp in timestamps:\n",
    "        clip = a.copy()\n",
    "        clip = clip.subclip(timestamp['start'], timestamp['end'])\n",
    "        clip = clip.fx( afx.audio_fadein, 0.5)\\\n",
    "                   .fx( afx.audio_fadeout, 0.5)\n",
    "        clips.append(clip)\n",
    "    clip = editor.concatenate_audioclips(clips)\n",
    "    clip.write_audiofile(out_filename)\n",
    "    segment['duration'] = clip.duration\n",
    "    print(segment['duration'])\n",
    "    "
   ]
  },
  {
   "cell_type": "code",
   "execution_count": 7,
   "metadata": {},
   "outputs": [
    {
     "name": "stdout",
     "output_type": "stream",
     "text": [
      "On branch master\n",
      "Your branch is up to date with 'origin/master'.\n",
      "\n",
      "Changes to be committed:\n",
      "  (use \"git restore --staged <file>...\" to unstage)\n",
      "\tmodified:   m3-assets/4: W.D - why is it coming to a head now & Drought and climate.mp3\n",
      "\tmodified:   m3-assets/6:M.M - Existential issue.mp3\n",
      "\tmodified:   m3-assets/9: M.M - sustainable water use.mp3\n",
      "\n",
      "Untracked files:\n",
      "  (use \"git add <file>...\" to include in what will be committed)\n",
      "\t.ipynb_checkpoints/\n",
      "\t.vscode/\n",
      "\n",
      "[master fbceecf] Update M3 sound assets\n",
      " 3 files changed, 0 insertions(+), 0 deletions(-)\n",
      " rewrite m3-assets/6:M.M - Existential issue.mp3 (79%)\n"
     ]
    },
    {
     "name": "stderr",
     "output_type": "stream",
     "text": [
      "To github.com:akariv/atlas-medliq.git\n",
      "   9e9ae4a..fbceecf  master -> master\n"
     ]
    }
   ],
   "source": [
    "%%bash\n",
    "git add m3-assets/\n",
    "git status\n",
    "git commit -m \"Update M3 sound assets\"\n",
    "git push"
   ]
  },
  {
   "cell_type": "code",
   "execution_count": 8,
   "metadata": {},
   "outputs": [
    {
     "name": "stdout",
     "output_type": "stream",
     "text": [
      "{'id': 'attuDk4cnUKcMVs2M', 'url': 'https://raw.githubusercontent.com/akariv/atlas-medliq/master/m3-assets/0: Introduction.mp3#1611424781.821182', 'filename': '0:%20Introduction.mp3'}\n",
      "{'id': 'atto42wazssllPLVK', 'url': 'https://raw.githubusercontent.com/akariv/atlas-medliq/master/m3-assets/1: M.F - filling time.mp3#1611424781.821182', 'filename': '1:%20M.F%20-%20filling%20time.mp3'}\n",
      "{'id': 'attiAnC0qpmUUG4Dr', 'url': 'https://raw.githubusercontent.com/akariv/atlas-medliq/master/m3-assets/2: M.M - The real issue: Egypt control over the Nile & 11 countries.mp3#1611424781.821182', 'filename': '2:%20M.M%20-%20The%20real%20issue:%20Egypt%20control%20over%20the%20Nile%20&%2011%20countries.mp3'}\n",
      "{'id': 'attBvwnzHcQV3TZlu', 'url': 'https://raw.githubusercontent.com/akariv/atlas-medliq/master/m3-assets/3: M.S - the role of Sudan & negotiations, not war.mp3#1611424781.821182', 'filename': '3:%20M.S%20-%20the%20role%20of%20Sudan%20&%20negotiations,%20not%20war.mp3'}\n",
      "{'id': 'attzzhfMDcS9w5j2b', 'url': 'https://raw.githubusercontent.com/akariv/atlas-medliq/master/m3-assets/4: W.D - why is it coming to a head now & Drought and climate.mp3#1611424781.821182', 'filename': '4:%20W.D%20-%20why%20is%20it%20coming%20to%20a%20head%20now%20&%20Drought%20and%20climate.mp3'}\n",
      "{'id': 'atthntFxR5LWqrM4Q', 'url': 'https://raw.githubusercontent.com/akariv/atlas-medliq/master/m3-assets/5: M.S - 22B cube.mp3#1611424781.821182', 'filename': '5:%20M.S%20-%2022B%20cube.mp3'}\n",
      "{'id': 'atteMcJSQGogrZekb', 'url': 'https://raw.githubusercontent.com/akariv/atlas-medliq/master/m3-assets/6:M.M - Existential issue.mp3#1611424781.821182', 'filename': '6:M.M%20-%20Existential%20issue.mp3'}\n",
      "{'id': 'attUL4WzxfdEdYeWK', 'url': 'https://raw.githubusercontent.com/akariv/atlas-medliq/master/m3-assets/7: M.F - historical & colonial.mp3#1611424781.821182', 'filename': '7:%20M.F%20-%20historical%20&%20colonial.mp3'}\n",
      "{'id': 'attdr5NmYIWyjpuCf', 'url': 'https://raw.githubusercontent.com/akariv/atlas-medliq/master/m3-assets/8: W.D - the GERD (dam) is a non consumptive project.mp3#1611424781.821182', 'filename': '8:%20W.D%20-%20the%20GERD%20(dam)%20is%20a%20non%20consumptive%20project.mp3'}\n",
      "{'id': 'attqbotm6rHE2AlLz', 'url': 'https://raw.githubusercontent.com/akariv/atlas-medliq/master/m3-assets/9: M.M - sustainable water use.mp3#1611424781.821182', 'filename': '9:%20M.M%20-%20sustainable%20water%20use.mp3'}\n"
     ]
    }
   ],
   "source": [
    "import time\n",
    "cb = str(time.time())\n",
    "\n",
    "for segment in segments:\n",
    "    url = f'https://raw.githubusercontent.com/akariv/atlas-medliq/master/m3-assets/{segment[\"title\"]}.mp3#{cb}'\n",
    "    null_request = dict(\n",
    "        records=[dict(\n",
    "            id=segment['__id'],\n",
    "            fields=dict(\n",
    "                audio=[],\n",
    "                duration=0\n",
    "            )\n",
    "        )]\n",
    "    )\n",
    "    full_request = dict(\n",
    "        records=[dict(\n",
    "            id=segment['__id'],\n",
    "            fields=dict(\n",
    "                audio=[dict(\n",
    "                    url=url\n",
    "                )],\n",
    "                duration=float(segment['duration'])\n",
    "            )\n",
    "        )]\n",
    "    )\n",
    "    resp = requests.patch('https://api.airtable.com/v0/appfJRhs6ZsWF5OtU/Segment',\n",
    "                           json=null_request, \n",
    "                           headers=dict(Authorization=f'Bearer {APIKEY}'))\n",
    "    resp = requests.patch('https://api.airtable.com/v0/appfJRhs6ZsWF5OtU/Segment',\n",
    "                           json=full_request, \n",
    "                           headers=dict(Authorization=f'Bearer {APIKEY}'))\n",
    "    print(resp.json()['records'][0]['fields']['audio'][0])\n"
   ]
  },
  {
   "cell_type": "code",
   "execution_count": null,
   "metadata": {},
   "outputs": [],
   "source": []
  }
 ],
 "metadata": {
  "kernelspec": {
   "display_name": "Python 3",
   "language": "python",
   "name": "python3"
  },
  "language_info": {
   "codemirror_mode": {
    "name": "ipython",
    "version": 3
   },
   "file_extension": ".py",
   "mimetype": "text/x-python",
   "name": "python",
   "nbconvert_exporter": "python",
   "pygments_lexer": "ipython3",
   "version": "3.7.8"
  }
 },
 "nbformat": 4,
 "nbformat_minor": 4
}
